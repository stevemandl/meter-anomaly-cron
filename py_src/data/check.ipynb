{
 "cells": [
  {
   "cell_type": "code",
   "execution_count": 1,
   "metadata": {},
   "outputs": [],
   "source": [
    "import pandas as pd\n",
    "# from sklearn.linear_model import LinearRegression"
   ]
  },
  {
   "cell_type": "code",
   "execution_count": 2,
   "metadata": {},
   "outputs": [
    {
     "name": "stdout",
     "output_type": "stream",
     "text": [
      "      value       time\n",
      "0  2.323037 2021-10-11\n",
      "1  2.331414 2021-10-12\n",
      "2  2.502618 2021-10-13\n",
      "3  2.764398 2021-10-14\n",
      "4  2.496354 2021-10-15\n",
      "\n",
      "(106, 2)\n",
      "\n",
      "value           float64\n",
      "time     datetime64[ns]\n",
      "dtype: object\n"
     ]
    }
   ],
   "source": [
    "df = pd.read_csv(\"ADWhiteHouse_Elec_PowerScout3-kW_System.csv\")\n",
    "df['time'] //= 1000\n",
    "df['time'] = pd.to_datetime(df['time'],unit='s')\n",
    "print(df.head())\n",
    "print()\n",
    "print(df.shape)\n",
    "print()\n",
    "print(df.dtypes)"
   ]
  },
  {
   "cell_type": "code",
   "execution_count": 3,
   "metadata": {},
   "outputs": [
    {
     "name": "stdout",
     "output_type": "stream",
     "text": [
      "2021-10-11 00:00:00\n",
      "2022-03-10 00:00:00\n"
     ]
    }
   ],
   "source": [
    "print(df['time'][0])\n",
    "print(df['time'][len(df)-1])"
   ]
  },
  {
   "cell_type": "code",
   "execution_count": 4,
   "metadata": {},
   "outputs": [
    {
     "data": {
      "text/plain": [
       "<AxesSubplot: xlabel='time'>"
      ]
     },
     "execution_count": 4,
     "metadata": {},
     "output_type": "execute_result"
    },
    {
     "data": {
      "image/png": "[encoded data removed]",
      "text/plain": [
       "<Figure size 640x480 with 1 Axes>"
      ]
     },
     "metadata": {},
     "output_type": "display_data"
    }
   ],
   "source": [
    "df1 = df[:][len(df) - 24:]\n",
    "df1.plot(x=\"time\", y='value')"
   ]
  },
  {
   "cell_type": "code",
   "execution_count": 51,
   "metadata": {},
   "outputs": [
    {
     "name": "stdout",
     "output_type": "stream",
     "text": [
      "     value                time\n",
      "696  2.725 2023-02-27 00:00:00\n",
      "697  2.900 2023-02-27 01:00:00\n",
      "698  3.000 2023-02-27 02:00:00\n",
      "699  3.550 2023-02-27 03:00:00\n",
      "700  3.500 2023-02-27 04:00:00\n",
      "701  3.525 2023-02-27 05:00:00\n",
      "702  3.650 2023-02-27 06:00:00\n",
      "703  3.400 2023-02-27 07:00:00\n",
      "704  3.575 2023-02-27 08:00:00\n",
      "705  3.650 2023-02-27 09:00:00\n",
      "706  4.250 2023-02-27 10:00:00\n",
      "707  4.800 2023-02-27 11:00:00\n",
      "708  5.350 2023-02-27 12:00:00\n",
      "709  4.275 2023-02-27 13:00:00\n",
      "710  4.350 2023-02-27 14:00:00\n",
      "711  3.775 2023-02-27 15:00:00\n",
      "712  4.350 2023-02-27 16:00:00\n",
      "713  4.250 2023-02-27 17:00:00\n",
      "714  3.325 2023-02-27 18:00:00\n",
      "715  3.700 2023-02-27 19:00:00\n",
      "716  1.975 2023-02-27 20:00:00\n",
      "717  2.125 2023-02-27 21:00:00\n",
      "718  1.825 2023-02-27 22:00:00\n",
      "719  3.850 2023-02-27 23:00:00\n"
     ]
    }
   ],
   "source": [
    "print(df1)\n",
    "# data is offset by 6 hours for some reason?\n",
    "# from 1641013200 to 1646888400"
   ]
  },
  {
   "cell_type": "code",
   "execution_count": 18,
   "metadata": {},
   "outputs": [
    {
     "data": {
      "text/plain": [
       "3600000"
      ]
     },
     "execution_count": 18,
     "metadata": {},
     "output_type": "execute_result"
    }
   ],
   "source": [
    "df['time'][1] - df['time'][0]"
   ]
  },
  {
   "cell_type": "code",
   "execution_count": 5,
   "metadata": {},
   "outputs": [
    {
     "name": "stdout",
     "output_type": "stream",
     "text": [
      "err\n",
      "err\n",
      "err\n",
      "err\n",
      "err\n",
      "err\n",
      "err\n",
      "err\n",
      "err\n",
      "err\n",
      "err\n",
      "err\n",
      "err\n",
      "err\n",
      "err\n",
      "err\n",
      "err\n",
      "err\n",
      "err\n",
      "err\n",
      "err\n",
      "err\n",
      "err\n",
      "err\n",
      "err\n",
      "err\n",
      "err\n",
      "err\n",
      "err\n",
      "err\n",
      "err\n",
      "err\n",
      "err\n",
      "err\n",
      "err\n",
      "err\n",
      "err\n",
      "err\n",
      "err\n",
      "err\n",
      "err\n",
      "err\n",
      "err\n",
      "err\n",
      "err\n",
      "err\n",
      "err\n",
      "err\n",
      "err\n",
      "err\n",
      "err\n",
      "err\n",
      "err\n",
      "err\n",
      "err\n",
      "err\n",
      "err\n",
      "err\n",
      "err\n",
      "err\n",
      "err\n",
      "err\n",
      "err\n",
      "err\n",
      "err\n",
      "err\n",
      "err\n",
      "err\n",
      "err\n",
      "err\n",
      "err\n",
      "err\n",
      "err\n",
      "err\n",
      "err\n",
      "err\n",
      "err\n",
      "err\n",
      "err\n",
      "err\n",
      "err\n",
      "err\n",
      "err\n",
      "err\n",
      "err\n",
      "err\n",
      "err\n",
      "err\n",
      "err\n",
      "err\n",
      "err\n",
      "err\n",
      "err\n",
      "err\n",
      "err\n",
      "err\n",
      "err\n",
      "err\n",
      "err\n",
      "err\n",
      "err\n",
      "err\n",
      "err\n",
      "err\n",
      "err\n"
     ]
    }
   ],
   "source": [
    "for i in range(len(df['time']) - 1):\n",
    "    if df['time'][i+1] - df['time'][i] != 3600000:\n",
    "        print('err')"
   ]
  },
  {
   "cell_type": "code",
   "execution_count": null,
   "metadata": {},
   "outputs": [],
   "source": [
    "\"\"\"pipenv run ./invoke.py -t 1646888400 python_template/handler.run ADWhiteHouse.Elec.PowerScout3/kW_System\"\"\"\n",
    "# ^ useful command for testing out the function. There is a huge gap in the data in the ~4 months leading up to 1646888400"
   ]
  }
 ],
 "metadata": {
  "kernelspec": {
   "display_name": "Python 3",
   "language": "python",
   "name": "python3"
  },
  "language_info": {
   "codemirror_mode": {
    "name": "ipython",
    "version": 3
   },
   "file_extension": ".py",
   "mimetype": "text/x-python",
   "name": "python",
   "nbconvert_exporter": "python",
   "pygments_lexer": "ipython3",
   "version": "3.8.10"
  },
  "orig_nbformat": 4,
  "vscode": {
   "interpreter": {
    "hash": "31f2aee4e71d21fbe5cf8b01ff0e069b9275f58929596ceb00d14d90e3e16cd6"
   }
  }
 },
 "nbformat": 4,
 "nbformat_minor": 2
}
